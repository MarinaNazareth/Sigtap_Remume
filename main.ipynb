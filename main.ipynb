{
 "cells": [
  {
   "cell_type": "code",
   "execution_count": null,
   "id": "6cc75932",
   "metadata": {},
   "outputs": [],
   "source": [
    "#Importações geral (tem mais bibliotecas do que serão utilizadas por reaproveitamento do código)\n",
    "import pandas as pd\n",
    "import math\n",
    "import numpy as np\n",
    "from datetime import datetime, timedelta, date\n",
    "from IPython.display import HTML\n",
    "import mysql.connector\n",
    "import requests\n",
    "import hashlib\n",
    "import os\n",
    "from unidecode import unidecode\n",
    "import re as regex\n",
    "import re\n",
    "from selenium import webdriver\n",
    "from selenium.webdriver.common.by import By\n",
    "import requests \n",
    "import openpyxl\n",
    "from openpyxl import Workbook, load_workbook\n",
    "from openpyxl.utils import get_column_letter\n",
    "import xlrd"
   ]
  },
  {
   "cell_type": "code",
   "execution_count": null,
   "id": "27e3d8c3",
   "metadata": {},
   "outputs": [],
   "source": [
    "#regex\n",
    "#exportação e tratamentos\n",
    "\n",
    "df_key1 = pd.read_excel(r\"C:\\Users\\Downloads\\Remume-automatizado\\NXBASE-902.xlsx\", sheet_name ='Aracaju')\n",
    "df_key2 = pd.read_excel(r\"C:\\Users\\Downloads\\Remume-automatizado\\NXBASE-902.xlsx\", sheet_name ='SPF')\n",
    "df_key3 = pd.read_excel(r\"C:\\Users\\Downloads\\Remume-automatizado\\NXBASE-902.xlsx\", sheet_name ='Lages')\n",
    "df_key4 = pd.read_excel(r\"C:\\Users\\Downloads\\Remume-automatizado\\NXBASE-902.xlsx\", sheet_name ='Pomerode')\n",
    "df_regex = pd.read_excel(r\"C:\\Users\\Downloads\\Remume-automatizado\\regex_idvmp.xlsx\")\n"
   ]
  },
  {
   "cell_type": "code",
   "execution_count": null,
   "id": "e7b5aed3",
   "metadata": {},
   "outputs": [],
   "source": [
    "df_key1['concat'] = df_key1['concat'].astype(str)\n",
    "df_key3['concat'] = df_key3['concat'].astype(str)\n",
    "\n",
    "\n",
    "df_key1['concat'] = df_key1['concat'].str.upper()\n",
    "df_key3['concat'] = df_key3['concat'].str.upper()\n",
    "\n",
    "\n",
    "df_key1['concat'] = df_key1['concat'].str.replace('/',' ', regex=False)\n",
    "df_key3['concat'] = df_key3['concat'].str.replace('/',' ', regex=False)\n",
    "df_key1['concat'] = df_key1['concat'].str.replace('-',' ', regex=False)\n",
    "df_key3['concat'] = df_key3['concat'].str.replace('-',' ', regex=False)\n",
    "df_key1['concat'] = df_key1['concat'].str.replace(',','.', regex=False)\n",
    "df_key3['concat'] = df_key3['concat'].str.replace(',','.', regex=False)\n",
    "\n",
    "\n",
    "df_key1['concat'] = df_key1['concat'].str.replace('  ',' ', regex=False)\n",
    "df_key3['concat'] = df_key3['concat'].str.replace('  ',' ', regex=False)\n",
    "\n",
    "\n",
    "df_key2['concat'] = df_key2['concat'].astype(str)\n",
    "df_key4['concat'] = df_key4['concat'].astype(str)\n",
    "\n",
    "\n",
    "df_key2['concat'] = df_key2['concat'].str.upper()\n",
    "df_key4['concat'] = df_key4['concat'].str.upper()\n",
    "\n",
    "\n",
    "df_key2['concat'] = df_key2['concat'].str.replace('/',' ', regex=False)\n",
    "df_key4['concat'] = df_key4['concat'].str.replace('/',' ', regex=False)\n",
    "df_key2['concat'] = df_key2['concat'].str.replace('-',' ', regex=False)\n",
    "df_key4['concat'] = df_key4['concat'].str.replace('-',' ', regex=False)\n",
    "df_key2['concat'] = df_key2['concat'].str.replace(',','.', regex=False)\n",
    "df_key4['concat'] = df_key4['concat'].str.replace(',','.', regex=False)\n",
    "\n",
    "\n",
    "\n",
    "df_key2['concat'] = df_key2['concat'].str.replace('  ',' ', regex=False)\n",
    "df_key4['concat'] = df_key4['concat'].str.replace('  ',' ', regex=False)\n"
   ]
  },
  {
   "cell_type": "code",
   "execution_count": null,
   "id": "954cabb6",
   "metadata": {},
   "outputs": [],
   "source": [
    "#padronização da base e regex\n",
    "df_regex['concat'] = df_regex['concat'].astype(str)\n",
    "df_regex['TipoEmbalagem'] = df_regex['TipoEmbalagem'].astype(str)\n",
    "df_regex['concat'] = df_regex['concat'].str.upper()\n",
    "df_regex['concat'] = df_regex['concat'].str.replace('/',' ', regex=False)\n",
    "df_regex['concat'] = df_regex['concat'].str.replace('+',' ', regex=True)\n",
    "df_regex['concat'] = df_regex['concat'].str.replace('  ',' ', regex=False)\n",
    "df_regex['concat'] = df_regex['concat'].str.replace(',','.', regex=False)\n",
    "df_regex['FormaFarmaceutica'] = df_regex['FormaFarmaceutica'].astype(str)\n",
    "df_regex['Concentracao'] = df_regex['Concentracao'].astype(str)\n",
    "df_regex['Concentracao'] = df_regex['Concentracao'].str.replace(',','.', regex=False)\n",
    "df_regex['FormaFarmaceutica'] = df_regex['FormaFarmaceutica'].str.upper()\n",
    "df_regex['Unidade'] = df_regex['Unidade'].str.upper()\n",
    "df_regex['Unidade'] = df_regex['Unidade'].str.replace('/',' ', regex=False)\n",
    "df_regex['Concentracao'] = df_regex['Concentracao'].str.upper()\n",
    "df_regex['TipoEmbalagem'] = df_regex['TipoEmbalagem'].str.replace('-',' ', regex=False)\n",
    "df_regex['TipoEmbalagem'] = df_regex['TipoEmbalagem'].str.replace('  ',' ', regex=False)\n",
    "df_regex['Unidade'] = df_regex['Unidade'].str.replace('  ',' ', regex=False)"
   ]
  },
  {
   "cell_type": "code",
   "execution_count": null,
   "id": "62f580d0",
   "metadata": {},
   "outputs": [],
   "source": [
    "#função para retirar acentos\n",
    "def remover_acentos(texto):\n",
    "    return unidecode(texto)"
   ]
  },
  {
   "cell_type": "code",
   "execution_count": null,
   "id": "251474c2",
   "metadata": {},
   "outputs": [],
   "source": [
    "#aplicação do def\n",
    "\n",
    "df_regex['concat'] = df_regex['concat'].apply(remover_acentos)\n",
    "df_regex['NomeFarmaco'] = df_regex['NomeFarmaco'].apply(remover_acentos)\n",
    "df_regex['FormaFarmaceutica'] = df_regex['FormaFarmaceutica'].apply(remover_acentos)\n",
    "df_regex['TipoEmbalagem'] = df_regex['TipoEmbalagem'].apply(remover_acentos)\n",
    "df_regex['Concentracao'] = df_regex['Concentracao'].apply(remover_acentos)\n",
    "df_key1['concat'] = df_key1['concat'].apply(remover_acentos)\n",
    "df_key3['concat'] = df_key3['concat'].apply(remover_acentos)\n",
    "df_key1['concat'] = df_key1['concat'].apply(remover_acentos)\n",
    "df_key4['concat'] = df_key4['concat'].apply(remover_acentos)\n"
   ]
  },
  {
   "cell_type": "code",
   "execution_count": null,
   "id": "b685b097",
   "metadata": {},
   "outputs": [],
   "source": [
    "#definicao dos caracteres especiais que devem ser escapados do regex\n",
    "\n",
    "def escape_special_chars(string):\n",
    "    special_chars = ['\\\\', '^', '$', '|', '?', '*', '(', ')', '[', ']', '{', '}', ':']\n",
    "\n",
    "    for char in special_chars:\n",
    "        string = string.replace(char, '\\\\' + char)\n",
    "    \n",
    "    return string"
   ]
  },
  {
   "cell_type": "code",
   "execution_count": null,
   "id": "7f5801e2",
   "metadata": {},
   "outputs": [],
   "source": [
    "#aplicação do def\n",
    "\n",
    "df_regex['concat'] = df_regex['concat'].apply(escape_special_chars)\n",
    "df_regex['TipoEmbalagem'] = df_regex['TipoEmbalagem'].apply(escape_special_chars)\n",
    "df_regex['FormaFarmaceutica'] = df_regex['FormaFarmaceutica'].apply(escape_special_chars)\n",
    "df_regex['Concentracao'] = df_regex['Concentracao'].apply(escape_special_chars)\n",
    "df_key1['concat'] = df_key1['concat'].apply(escape_special_chars)\n",
    "df_key3['concat'] = df_key3['concat'].apply(escape_special_chars)\n",
    "df_regex['NomeFarmaco'] = df_regex['NomeFarmaco'].apply(escape_special_chars)\n",
    "df_key1['concat'] = df_key1['concat'].apply(escape_special_chars)\n",
    "df_key4['concat'] = df_key4['concat'].apply(escape_special_chars)\n"
   ]
  },
  {
   "cell_type": "code",
   "execution_count": null,
   "id": "0ba4c3b5",
   "metadata": {},
   "outputs": [],
   "source": [
    "#TENTAR POR COLUNA\n",
    "\n",
    "from fuzzywuzzy import fuzz\n",
    "from fuzzywuzzy import process\n",
    "\n",
    "def encontrar_correspondencia_similaridade(texto, opcoes):\n",
    "    melhor_correspondencia = process.extractOne(texto, opcoes)\n",
    "    return melhor_correspondencia\n",
    "\n",
    "def id_correspondente(row):\n",
    "    texto = row['concat']\n",
    "    opcoes = df_regex['concat'].tolist()\n",
    "    \n",
    "    melhor_correspondencia = encontrar_correspondencia_similaridade(texto, opcoes)\n",
    "    \n",
    "    if melhor_correspondencia[1] >= 90:  # Defina um limite de similaridade aceitável\n",
    "        ids = df_regex.loc[df_regex['concat'] == melhor_correspondencia[0], 'idVMP'].tolist()\n",
    "        return ids\n",
    "    return None\n",
    "\n",
    "def remover_duplicatas(lista):\n",
    "    if lista is None:\n",
    "        return []\n",
    "    return list(set(lista))"
   ]
  },
  {
   "cell_type": "code",
   "execution_count": null,
   "id": "a1d75f67",
   "metadata": {},
   "outputs": [],
   "source": [
    "df_key1['id_correspondente'] = df_key1.apply(id_correspondente, axis=1)\n",
    "df_key1['id_correspondente'] = df_key1['id_correspondente'].apply(remover_duplicatas)\n",
    "\n",
    "df_key3['id_correspondente'] = df_key3.apply(id_correspondente, axis=1)\n",
    "df_key3['id_correspondente'] = df_key3['id_correspondente'].apply(remover_duplicatas)\n",
    "\n",
    "df_key2['id_correspondente'] = df_key2.apply(id_correspondente, axis=1)\n",
    "df_key2['id_correspondente'] = df_key2['id_correspondente'].apply(remover_duplicatas)\n",
    "\n",
    "df_key4['id_correspondente'] = df_key4.apply(id_correspondente, axis=1)\n",
    "df_key4['id_correspondente'] = df_key4['id_correspondente'].apply(remover_duplicatas)"
   ]
  },
  {
   "cell_type": "code",
   "execution_count": null,
   "id": "afdefbb9",
   "metadata": {},
   "outputs": [],
   "source": [
    "\n",
    "\n",
    "writer = pd.ExcelWriter(r\"C:\\Users\\Plugify\\Downloads\\Remume-automatizado\\remume_v1.xlsx\", engine='xlsxwriter')\n",
    "df_key1.to_excel(writer, sheet_name='Aracaju')\n",
    "df_key3.to_excel(writer, sheet_name='Lages')\n",
    "df_key2.to_excel(writer, sheet_name='SPF')\n",
    "df_key4.to_excel(writer, sheet_name='Pomerode')\n",
    "\n",
    "writer.save() "
   ]
  },
  {
   "cell_type": "code",
   "execution_count": null,
   "id": "e39bbbb4",
   "metadata": {},
   "outputs": [],
   "source": []
  }
 ],
 "metadata": {
  "kernelspec": {
   "display_name": "Python 3 (ipykernel)",
   "language": "python",
   "name": "python3"
  },
  "language_info": {
   "codemirror_mode": {
    "name": "ipython",
    "version": 3
   },
   "file_extension": ".py",
   "mimetype": "text/x-python",
   "name": "python",
   "nbconvert_exporter": "python",
   "pygments_lexer": "ipython3",
   "version": "3.10.9"
  }
 },
 "nbformat": 4,
 "nbformat_minor": 5
}
