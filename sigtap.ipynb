{
 "cells": [
  {
   "cell_type": "code",
   "execution_count": null,
   "id": "7f850460",
   "metadata": {},
   "outputs": [],
   "source": [
    "#Importações geral (tem mais bibliotecas do que serão utilizadas por reaproveitamento do código)\n",
    "import pandas as pd\n",
    "import math\n",
    "import numpy as np\n",
    "from datetime import datetime, timedelta, date\n",
    "from IPython.display import HTML\n",
    "import mysql.connector\n",
    "import requests\n",
    "import hashlib\n",
    "import os\n",
    "from unidecode import unidecode\n",
    "import re as regex\n",
    "import re\n",
    "from selenium import webdriver\n",
    "from selenium.webdriver.common.by import By\n",
    "import requests \n",
    "import openpyxl\n",
    "from openpyxl import Workbook, load_workbook\n",
    "from openpyxl.utils import get_column_letter\n",
    "import xlrd"
   ]
  },
  {
   "cell_type": "code",
   "execution_count": null,
   "id": "f35ecc66",
   "metadata": {},
   "outputs": [],
   "source": [
    "#sigtap\n",
    "\n",
    "df = pd.read_excel(r\"C:\\Users\\Plugify\\Downloads\\Remume-automatizado\\sigtap.xlsx\", sheet_name ='sigtap')\n",
    "df_base = pd.read_excel(r\"C:\\Users\\Plugify\\Downloads\\Remume-automatizado\\sigtap.xlsx\", sheet_name ='base')\n",
    "\n",
    "df_base['Concentracao'] = df_base['Concentracao'].astype(str)\n",
    "\n",
    "def escape_special_chars(string):\n",
    "    special_chars = ['\\\\', '^', '$', '.', '|', '?', '*', '+', '(', ')', '[', ']', '{', '}', ':']\n",
    "\n",
    "    for char in special_chars:\n",
    "        string = string.replace(char, '\\\\' + char)\n",
    "    \n",
    "    return string\n",
    "\n",
    "df_base['Concentracao'] = df_base['Concentracao'].apply(escape_special_chars)\n",
    "df_base['Farmaco'] = df_base['Farmaco'].apply(escape_special_chars)\n",
    "df_base['Unidade'] = df_base['Unidade'].apply(escape_special_chars)\n",
    "df['CONCAT'] = df['CONCAT'].apply(escape_special_chars)\n",
    "\n",
    "def id_correspondente(row):\n",
    "    mask = (df['CONCAT'].str.contains(row['Farmaco'], regex=True) &\n",
    "           df['CONCAT'].str.contains(row['Concentracao'], regex=True) &\n",
    "           df['CONCAT'].str.contains(row['Unidade'], regex=True))\n",
    "    \n",
    "    if mask.any():\n",
    "        ids = df.loc[mask, 'Procedimento'].tolist()\n",
    "        return ids\n",
    "    return None\n",
    "\n",
    "def remover_duplicatas(lista):\n",
    "    if lista is None:\n",
    "        return []\n",
    "    return list(set(lista))\n",
    "\n",
    "df_base['sigtap'] = df_base.apply(id_correspondente, axis=1)\n",
    "df_base['sigtap'] = df_base['sigtap'].apply(remover_duplicatas)\n",
    "\n",
    "writer = pd.ExcelWriter(r\"C:\\Users\\Plugify\\Downloads\\Remume-automatizado\\sigtap_v1.xlsx\", engine='xlsxwriter')\n",
    "df_base.to_excel(writer, sheet_name='sigtap')\n",
    "writer.save()"
   ]
  }
 ],
 "metadata": {
  "kernelspec": {
   "display_name": "Python 3 (ipykernel)",
   "language": "python",
   "name": "python3"
  },
  "language_info": {
   "codemirror_mode": {
    "name": "ipython",
    "version": 3
   },
   "file_extension": ".py",
   "mimetype": "text/x-python",
   "name": "python",
   "nbconvert_exporter": "python",
   "pygments_lexer": "ipython3",
   "version": "3.10.9"
  }
 },
 "nbformat": 4,
 "nbformat_minor": 5
}
